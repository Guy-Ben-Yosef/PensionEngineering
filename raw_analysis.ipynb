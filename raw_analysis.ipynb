{
 "cells": [
  {
   "cell_type": "code",
   "execution_count": 1,
   "id": "1bfd7d96",
   "metadata": {},
   "outputs": [],
   "source": [
    "import pandas as pd\n",
    "import os\n",
    "import xml.etree.ElementTree as ET\n",
    "import io\n",
    "import warnings"
   ]
  },
  {
   "cell_type": "code",
   "execution_count": null,
   "id": "cde287a3",
   "metadata": {},
   "outputs": [],
   "source": [
    "import urllib.request\n",
    "import json\n",
    "from Data.data import api_ids\n",
    "import datetime\n",
    "\n",
    "URL = \"https://data.gov.il/api/3/action/datastore_search?resource_id=\"\n",
    "\n",
    "for year in range(2023, 2010, -1):\n",
    "    url = f\"{URL}{api_ids[str(year)]}\"\n",
    "    with urllib.request.urlopen(url) as response:\n",
    "        data = json.loads(response.read())\n",
    "\n",
    "    records = data['result']['records']\n",
    "    df = pd.DataFrame.from_records(records)\n",
    "    print(f\"Finished\\t{year}!\\t{df.shape}\")\n",
    "    if year==2014:\n",
    "        break"
   ]
  },
  {
   "cell_type": "code",
   "execution_count": null,
   "id": "b715244a",
   "metadata": {},
   "outputs": [],
   "source": [
    "import requests\n",
    "import xml.etree.ElementTree as ET\n",
    "import io\n",
    "\n",
    "# URL of the XML file\n",
    "url = \"https://data.gov.il/dataset/pensia-net/resource/88f86a79-bdbe-4afd-9e8b-592da9607207/download/pension-2001.xml\"\n",
    "# url = \"https://data.gov.il/dataset/pensia-net/resource/136d60f7-adab-43e2-9744-2eb1c265cfee/download/pension-2011.xml\"\n",
    "# url = \"https://data.gov.il/dataset/pensia-net/resource/953c98df-295b-4de2-9488-45ef43e943d7/download/pension-2012.xml\"\n",
    "# url = \"https://data.gov.il/dataset/pensia-net/resource/75cf7f21-5e69-4518-8d8c-5b18460e61f3/download/pension-2013.xml\"\n",
    "# url = \"https://data.gov.il/dataset/pensia-net/resource/4de0e578-d03c-444c-874e-11f45e668c8d/download/pension-2014.xml\"\n",
    "\n",
    "# Send a GET request to fetch the XML file\n",
    "response = requests.get(url)\n",
    "\n",
    "# Check if the request was successful\n",
    "if response.status_code == 200:\n",
    "    xml_content = \"<ROWSET>\" + response.text[53:]\n",
    "#     # Define the file path where the XML will be saved\n",
    "#     file_path = '.\\Data\\pension-2012.xml'\n",
    "#     # Write the XML content to a file\n",
    "#     with open(file_path, 'w') as file:\n",
    "#         file.write(xml_content)\n",
    "#     result = \"XML file successfully saved.\"\n",
    "else:\n",
    "    result = f\"Failed to download the XML file. Status code: {response.status_code}\"\n",
    "    \n",
    "tree = ET.parse(io.StringIO(xml_content))\n",
    "root = tree.getroot()\n",
    "\n",
    "valid_tags = [\"ID_KRN\", \"TKF_DIVUACH\", \"TSUA_NOMINALI_BFOAL\"]\n",
    "data = []\n",
    "for row in root.findall('ROW'):\n",
    "    data_dict = {}\n",
    "    for child in row:\n",
    "        if child.tag in valid_tags:\n",
    "            data_dict[child.tag] = child.text\n",
    "    data.append(data_dict)\n",
    "\n",
    "df = pd.DataFrame(data)\n",
    "df.shape"
   ]
  }
 ],
 "metadata": {
  "kernelspec": {
   "display_name": "Python 3 (ipykernel)",
   "language": "python",
   "name": "python3"
  },
  "language_info": {
   "codemirror_mode": {
    "name": "ipython",
    "version": 3
   },
   "file_extension": ".py",
   "mimetype": "text/x-python",
   "name": "python",
   "nbconvert_exporter": "python",
   "pygments_lexer": "ipython3",
   "version": "3.9.18"
  }
 },
 "nbformat": 4,
 "nbformat_minor": 5
}
