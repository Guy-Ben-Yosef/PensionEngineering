{
 "cells": [
  {
   "cell_type": "code",
   "execution_count": null,
   "id": "9ef551b9",
   "metadata": {},
   "outputs": [],
   "source": [
    "import pandas as pd\n",
    "import os"
   ]
  },
  {
   "cell_type": "code",
   "execution_count": null,
   "id": "ae30d023",
   "metadata": {},
   "outputs": [],
   "source": [
    "file_path = r'.\\data\\2023.csv'\n",
    "\n",
    "df = pd.read_csv(file_path, encoding = \"ISO-8859-8\")\n",
    "for c in df.columns:\n",
    "    print(c)\n",
    "df.head()"
   ]
  },
  {
   "cell_type": "code",
   "execution_count": 23,
   "id": "72c571e1",
   "metadata": {},
   "outputs": [
    {
     "name": "stdout",
     "output_type": "stream",
     "text": [
      "Finished\t2023!\t(2673, 33)\n",
      "Finished\t2022!\t(2281, 33)\n",
      "Finished\t2021!\t(2278, 33)\n",
      "Finished\t2020!\t(2112, 33)\n",
      "Finished\t2019!\t(2153, 33)\n",
      "Finished\t2018!\t(2053, 34)\n",
      "Finished\t2017!\t(1851, 33)\n",
      "Finished\t2016!\t(1843, 34)\n",
      "Finished\t2015!\t(1233, 33)\n",
      "Finished\t2014!\t(1203, 34)\n",
      "Finished\t2013!\t(1170, 34)\n",
      "Finished\t2012!\t(523, 34)\n",
      "Finished\t2011!\t(25, 34)\n",
      "\n",
      "0:00:09.471252\n"
     ]
    }
   ],
   "source": [
    "import pandas as pd\n",
    "import urllib.request\n",
    "import json\n",
    "from Data.data import api_ids\n",
    "import datetime\n",
    "\n",
    "start = datetime.datetime.now()\n",
    "\n",
    "URL = \"https://data.gov.il/api/3/action/datastore_search?resource_id=\"\n",
    "\n",
    "for year in range(2023, 2010, -1):\n",
    "    url = f\"{URL}{api_ids[str(year)]}\"\n",
    "    with urllib.request.urlopen(url) as response:\n",
    "        data = json.loads(response.read())\n",
    "\n",
    "    records = data['result']['records']\n",
    "    df = pd.DataFrame.from_records(records)\n",
    "    print(f\"Finished\\t{year}!\\t{df.shape}\")\n",
    "\n",
    "end = datetime.datetime.now()\n",
    "print(), print(end-start);"
   ]
  },
  {
   "cell_type": "code",
   "execution_count": 29,
   "id": "f50b3b16",
   "metadata": {},
   "outputs": [
    {
     "data": {
      "text/plain": [
       "'<ROWSET><DESCRIPTION>₪ כל הסכומים באלפי</DESCRIPTION><ROW><ID_KRN>131</ID_KRN><SHM_KRN>איילון-פיסגה '"
      ]
     },
     "execution_count": 29,
     "metadata": {},
     "output_type": "execute_result"
    }
   ],
   "source": [
    "import requests\n",
    "\n",
    "# URL of the XML file\n",
    "url = \"https://data.gov.il/dataset/pensia-net/resource/953c98df-295b-4de2-9488-45ef43e943d7/download/pension-2013.xml\"\n",
    "\n",
    "# Send a GET request to fetch the XML file\n",
    "response = requests.get(url)\n",
    "\n",
    "# Check if the request was successful\n",
    "if response.status_code == 200:\n",
    "    xml_content = response.text\n",
    "#     # Define the file path where the XML will be saved\n",
    "#     file_path = '.\\Data\\pension-2012.xml'\n",
    "#     # Write the XML content to a file\n",
    "#     with open(file_path, 'w') as file:\n",
    "#         file.write(xml_content)\n",
    "#     result = \"XML file successfully saved.\"\n",
    "else:\n",
    "    result = f\"Failed to download the XML file. Status code: {response.status_code}\"\n",
    "\n",
    "xml_content[:100]\n",
    "\n"
   ]
  },
  {
   "cell_type": "code",
   "execution_count": null,
   "id": "86fa2b7b",
   "metadata": {},
   "outputs": [],
   "source": []
  }
 ],
 "metadata": {
  "kernelspec": {
   "display_name": "Python 3 (ipykernel)",
   "language": "python",
   "name": "python3"
  },
  "language_info": {
   "codemirror_mode": {
    "name": "ipython",
    "version": 3
   },
   "file_extension": ".py",
   "mimetype": "text/x-python",
   "name": "python",
   "nbconvert_exporter": "python",
   "pygments_lexer": "ipython3",
   "version": "3.9.7"
  }
 },
 "nbformat": 4,
 "nbformat_minor": 5
}
